{
 "cells": [
  {
   "cell_type": "markdown",
   "metadata": {},
   "source": [
    "# FAQ Notebook for Public Library Data\n",
    "\n",
    "## What percentage of the US population is served by each of the budget categories of public libraries?\n",
    "\n",
    "First, let's define our categories. The lowest budget categories are consolidated into one."
   ]
  },
  {
   "cell_type": "code",
   "execution_count": 9,
   "metadata": {},
   "outputs": [],
   "source": [
    "categories = [\n",
    "  { \"minValue\": 30000000, \"label\": '$30M+' },\n",
    "  { \"minValue\": 10000000, \"maxValue\": 30000000, \"label\": '$10M - $30M' },\n",
    "  { \"minValue\": 5000000, \"maxValue\": 10000000, \"label\": '$5M - $10M' },\n",
    "  { \"minValue\": 1000000, \"maxValue\": 5000000, \"label\": '$1M - $5M' },\n",
    "  { \"minValue\": 400000, \"maxValue\": 1000000, \"label\": '$400K - $1M' },\n",
    "  { \"minValue\": 200000, \"maxValue\": 400000, \"label\": '$200K - $400K' },\n",
    "  { \"minValue\": 0, \"maxValue\": 200000, \"label\": 'Below $200K' }\n",
    "]"
   ]
  },
  {
   "cell_type": "markdown",
   "metadata": {},
   "source": [
    "Next we will read the public libary data."
   ]
  },
  {
   "cell_type": "code",
   "execution_count": 10,
   "metadata": {},
   "outputs": [
    {
     "name": "stdout",
     "output_type": "stream",
     "text": [
      "Found 9,248 entries from the public library survey\n"
     ]
    }
   ],
   "source": [
    "import pandas as pd\n",
    "\n",
    "lib_df = pd.read_csv(\"data/PLS_FY22_AE_pud22i.csv\", encoding=\"latin-1\")\n",
    "lib_count = lib_df.shape[0]\n",
    "print(f\"Found {lib_count:,} entries from the public library survey\")"
   ]
  },
  {
   "cell_type": "markdown",
   "metadata": {},
   "source": [
    "Next we will categorize each library based on their budget value, then display the frequency/percent for each category"
   ]
  },
  {
   "cell_type": "code",
   "execution_count": 18,
   "metadata": {},
   "outputs": [
    {
     "data": {
      "text/html": [
       "<style type=\"text/css\">\n",
       "</style>\n",
       "<table id=\"T_d2d1e\">\n",
       "  <thead>\n",
       "    <tr>\n",
       "      <th class=\"blank level0\" >&nbsp;</th>\n",
       "      <th id=\"T_d2d1e_level0_col0\" class=\"col_heading level0 col0\" >Group</th>\n",
       "      <th id=\"T_d2d1e_level0_col1\" class=\"col_heading level0 col1\" >Library count</th>\n",
       "      <th id=\"T_d2d1e_level0_col2\" class=\"col_heading level0 col2\" >Library percent</th>\n",
       "    </tr>\n",
       "  </thead>\n",
       "  <tbody>\n",
       "    <tr>\n",
       "      <th id=\"T_d2d1e_level0_row0\" class=\"row_heading level0 row0\" >0</th>\n",
       "      <td id=\"T_d2d1e_row0_col0\" class=\"data row0 col0\" >Below $200K</td>\n",
       "      <td id=\"T_d2d1e_row0_col1\" class=\"data row0 col1\" >3,839</td>\n",
       "      <td id=\"T_d2d1e_row0_col2\" class=\"data row0 col2\" >41.51</td>\n",
       "    </tr>\n",
       "    <tr>\n",
       "      <th id=\"T_d2d1e_level0_row1\" class=\"row_heading level0 row1\" >1</th>\n",
       "      <td id=\"T_d2d1e_row1_col0\" class=\"data row1 col0\" >$5M - $10M</td>\n",
       "      <td id=\"T_d2d1e_row1_col1\" class=\"data row1 col1\" >305</td>\n",
       "      <td id=\"T_d2d1e_row1_col2\" class=\"data row1 col2\" >3.30</td>\n",
       "    </tr>\n",
       "    <tr>\n",
       "      <th id=\"T_d2d1e_level0_row2\" class=\"row_heading level0 row2\" >2</th>\n",
       "      <td id=\"T_d2d1e_row2_col0\" class=\"data row2 col0\" >$400K - $1M</td>\n",
       "      <td id=\"T_d2d1e_row2_col1\" class=\"data row2 col1\" >1,642</td>\n",
       "      <td id=\"T_d2d1e_row2_col2\" class=\"data row2 col2\" >17.76</td>\n",
       "    </tr>\n",
       "    <tr>\n",
       "      <th id=\"T_d2d1e_level0_row3\" class=\"row_heading level0 row3\" >3</th>\n",
       "      <td id=\"T_d2d1e_row3_col0\" class=\"data row3 col0\" >$200K - $400K</td>\n",
       "      <td id=\"T_d2d1e_row3_col1\" class=\"data row3 col1\" >1,373</td>\n",
       "      <td id=\"T_d2d1e_row3_col2\" class=\"data row3 col2\" >14.85</td>\n",
       "    </tr>\n",
       "    <tr>\n",
       "      <th id=\"T_d2d1e_level0_row4\" class=\"row_heading level0 row4\" >4</th>\n",
       "      <td id=\"T_d2d1e_row4_col0\" class=\"data row4 col0\" >$1M - $5M</td>\n",
       "      <td id=\"T_d2d1e_row4_col1\" class=\"data row4 col1\" >1,772</td>\n",
       "      <td id=\"T_d2d1e_row4_col2\" class=\"data row4 col2\" >19.16</td>\n",
       "    </tr>\n",
       "    <tr>\n",
       "      <th id=\"T_d2d1e_level0_row5\" class=\"row_heading level0 row5\" >5</th>\n",
       "      <td id=\"T_d2d1e_row5_col0\" class=\"data row5 col0\" >$10M - $30M</td>\n",
       "      <td id=\"T_d2d1e_row5_col1\" class=\"data row5 col1\" >162</td>\n",
       "      <td id=\"T_d2d1e_row5_col2\" class=\"data row5 col2\" >1.75</td>\n",
       "    </tr>\n",
       "    <tr>\n",
       "      <th id=\"T_d2d1e_level0_row6\" class=\"row_heading level0 row6\" >6</th>\n",
       "      <td id=\"T_d2d1e_row6_col0\" class=\"data row6 col0\" >$30M+</td>\n",
       "      <td id=\"T_d2d1e_row6_col1\" class=\"data row6 col1\" >83</td>\n",
       "      <td id=\"T_d2d1e_row6_col2\" class=\"data row6 col2\" >0.90</td>\n",
       "    </tr>\n",
       "    <tr>\n",
       "      <th id=\"T_d2d1e_level0_row7\" class=\"row_heading level0 row7\" >7</th>\n",
       "      <td id=\"T_d2d1e_row7_col0\" class=\"data row7 col0\" >None</td>\n",
       "      <td id=\"T_d2d1e_row7_col1\" class=\"data row7 col1\" >72</td>\n",
       "      <td id=\"T_d2d1e_row7_col2\" class=\"data row7 col2\" >0.78</td>\n",
       "    </tr>\n",
       "  </tbody>\n",
       "</table>\n"
      ],
      "text/plain": [
       "<pandas.io.formats.style.Styler at 0x1cac0a3a2d0>"
      ]
     },
     "execution_count": 18,
     "metadata": {},
     "output_type": "execute_result"
    }
   ],
   "source": [
    "def get_category(lib, categories):\n",
    "  category = \"None\"\n",
    "  for cat in categories:\n",
    "    if \"minValue\" in cat and \"maxValue\" in cat and lib[\"TOTINCM\"] >= cat[\"minValue\"] and lib[\"TOTINCM\"] < cat[\"maxValue\"]:\n",
    "      category = cat[\"label\"]\n",
    "      break\n",
    "    elif \"minValue\" in cat and lib[\"TOTINCM\"] >= cat[\"minValue\"]:\n",
    "      category = cat[\"label\"]\n",
    "      break\n",
    "  return category\n",
    "lib_df[\"BUDGET_CATEGORY\"] = lib_df.apply(lambda row: get_category(row, categories), axis=1)\n",
    "frequencies = lib_df[\"BUDGET_CATEGORY\"].value_counts(sort=False)\n",
    "stats_df = pd.DataFrame({\"Group\": frequencies.index, \"Library count\": frequencies.values})\n",
    "stats_df[\"Library percent\"] = stats_df.apply(lambda row: row[\"Library count\"] / lib_count * 100, axis=1)\n",
    "stats_df.style.format(precision=2, thousands=\",\")\n",
    "# category_frequencies.plot.pie(y=category_frequencies.index, autopct='%1.1f%%')"
   ]
  },
  {
   "cell_type": "markdown",
   "metadata": {},
   "source": [
    "Next we will calculate and display the population served for each budget category"
   ]
  },
  {
   "cell_type": "code",
   "execution_count": 21,
   "metadata": {},
   "outputs": [
    {
     "name": "stdout",
     "output_type": "stream",
     "text": [
      "Total population served by libraries in this dataset: 334,210,711\n"
     ]
    },
    {
     "data": {
      "text/html": [
       "<style type=\"text/css\">\n",
       "</style>\n",
       "<table id=\"T_e26f9\">\n",
       "  <thead>\n",
       "    <tr>\n",
       "      <th class=\"blank level0\" >&nbsp;</th>\n",
       "      <th id=\"T_e26f9_level0_col0\" class=\"col_heading level0 col0\" >Group</th>\n",
       "      <th id=\"T_e26f9_level0_col1\" class=\"col_heading level0 col1\" >Library count</th>\n",
       "      <th id=\"T_e26f9_level0_col2\" class=\"col_heading level0 col2\" >Library percent</th>\n",
       "      <th id=\"T_e26f9_level0_col3\" class=\"col_heading level0 col3\" >Population served</th>\n",
       "      <th id=\"T_e26f9_level0_col4\" class=\"col_heading level0 col4\" >% population served</th>\n",
       "    </tr>\n",
       "  </thead>\n",
       "  <tbody>\n",
       "    <tr>\n",
       "      <th id=\"T_e26f9_level0_row0\" class=\"row_heading level0 row0\" >0</th>\n",
       "      <td id=\"T_e26f9_row0_col0\" class=\"data row0 col0\" >Below $200K</td>\n",
       "      <td id=\"T_e26f9_row0_col1\" class=\"data row0 col1\" >3,839</td>\n",
       "      <td id=\"T_e26f9_row0_col2\" class=\"data row0 col2\" >41.51</td>\n",
       "      <td id=\"T_e26f9_row0_col3\" class=\"data row0 col3\" >11,664,005</td>\n",
       "      <td id=\"T_e26f9_row0_col4\" class=\"data row0 col4\" >3.49</td>\n",
       "    </tr>\n",
       "    <tr>\n",
       "      <th id=\"T_e26f9_level0_row1\" class=\"row_heading level0 row1\" >1</th>\n",
       "      <td id=\"T_e26f9_row1_col0\" class=\"data row1 col0\" >$5M - $10M</td>\n",
       "      <td id=\"T_e26f9_row1_col1\" class=\"data row1 col1\" >305</td>\n",
       "      <td id=\"T_e26f9_row1_col2\" class=\"data row1 col2\" >3.30</td>\n",
       "      <td id=\"T_e26f9_row1_col3\" class=\"data row1 col3\" >42,840,040</td>\n",
       "      <td id=\"T_e26f9_row1_col4\" class=\"data row1 col4\" >12.82</td>\n",
       "    </tr>\n",
       "    <tr>\n",
       "      <th id=\"T_e26f9_level0_row2\" class=\"row_heading level0 row2\" >2</th>\n",
       "      <td id=\"T_e26f9_row2_col0\" class=\"data row2 col0\" >$400K - $1M</td>\n",
       "      <td id=\"T_e26f9_row2_col1\" class=\"data row2 col1\" >1,642</td>\n",
       "      <td id=\"T_e26f9_row2_col2\" class=\"data row2 col2\" >17.76</td>\n",
       "      <td id=\"T_e26f9_row2_col3\" class=\"data row2 col3\" >28,479,207</td>\n",
       "      <td id=\"T_e26f9_row2_col4\" class=\"data row2 col4\" >8.52</td>\n",
       "    </tr>\n",
       "    <tr>\n",
       "      <th id=\"T_e26f9_level0_row3\" class=\"row_heading level0 row3\" >3</th>\n",
       "      <td id=\"T_e26f9_row3_col0\" class=\"data row3 col0\" >$200K - $400K</td>\n",
       "      <td id=\"T_e26f9_row3_col1\" class=\"data row3 col1\" >1,373</td>\n",
       "      <td id=\"T_e26f9_row3_col2\" class=\"data row3 col2\" >14.85</td>\n",
       "      <td id=\"T_e26f9_row3_col3\" class=\"data row3 col3\" >13,107,111</td>\n",
       "      <td id=\"T_e26f9_row3_col4\" class=\"data row3 col4\" >3.92</td>\n",
       "    </tr>\n",
       "    <tr>\n",
       "      <th id=\"T_e26f9_level0_row4\" class=\"row_heading level0 row4\" >4</th>\n",
       "      <td id=\"T_e26f9_row4_col0\" class=\"data row4 col0\" >$1M - $5M</td>\n",
       "      <td id=\"T_e26f9_row4_col1\" class=\"data row4 col1\" >1,772</td>\n",
       "      <td id=\"T_e26f9_row4_col2\" class=\"data row4 col2\" >19.16</td>\n",
       "      <td id=\"T_e26f9_row4_col3\" class=\"data row4 col3\" >90,785,270</td>\n",
       "      <td id=\"T_e26f9_row4_col4\" class=\"data row4 col4\" >27.16</td>\n",
       "    </tr>\n",
       "    <tr>\n",
       "      <th id=\"T_e26f9_level0_row5\" class=\"row_heading level0 row5\" >5</th>\n",
       "      <td id=\"T_e26f9_row5_col0\" class=\"data row5 col0\" >$10M - $30M</td>\n",
       "      <td id=\"T_e26f9_row5_col1\" class=\"data row5 col1\" >162</td>\n",
       "      <td id=\"T_e26f9_row5_col2\" class=\"data row5 col2\" >1.75</td>\n",
       "      <td id=\"T_e26f9_row5_col3\" class=\"data row5 col3\" >50,187,204</td>\n",
       "      <td id=\"T_e26f9_row5_col4\" class=\"data row5 col4\" >15.02</td>\n",
       "    </tr>\n",
       "    <tr>\n",
       "      <th id=\"T_e26f9_level0_row6\" class=\"row_heading level0 row6\" >6</th>\n",
       "      <td id=\"T_e26f9_row6_col0\" class=\"data row6 col0\" >$30M+</td>\n",
       "      <td id=\"T_e26f9_row6_col1\" class=\"data row6 col1\" >83</td>\n",
       "      <td id=\"T_e26f9_row6_col2\" class=\"data row6 col2\" >0.90</td>\n",
       "      <td id=\"T_e26f9_row6_col3\" class=\"data row6 col3\" >94,232,698</td>\n",
       "      <td id=\"T_e26f9_row6_col4\" class=\"data row6 col4\" >28.20</td>\n",
       "    </tr>\n",
       "    <tr>\n",
       "      <th id=\"T_e26f9_level0_row7\" class=\"row_heading level0 row7\" >7</th>\n",
       "      <td id=\"T_e26f9_row7_col0\" class=\"data row7 col0\" >None</td>\n",
       "      <td id=\"T_e26f9_row7_col1\" class=\"data row7 col1\" >72</td>\n",
       "      <td id=\"T_e26f9_row7_col2\" class=\"data row7 col2\" >0.78</td>\n",
       "      <td id=\"T_e26f9_row7_col3\" class=\"data row7 col3\" >2,915,176</td>\n",
       "      <td id=\"T_e26f9_row7_col4\" class=\"data row7 col4\" >0.87</td>\n",
       "    </tr>\n",
       "  </tbody>\n",
       "</table>\n"
      ],
      "text/plain": [
       "<pandas.io.formats.style.Styler at 0x1cacafba710>"
      ]
     },
     "execution_count": 21,
     "metadata": {},
     "output_type": "execute_result"
    }
   ],
   "source": [
    "total_population_served = lib_df[lib_df[\"POPU_LSA\"] > 0][\"POPU_LSA\"].sum()\n",
    "print(f\"Total population served by libraries in this dataset: {total_population_served:,}\")\n",
    "\n",
    "def get_population_served(df, group):\n",
    "  return df[(df[\"POPU_LSA\"] > 0) & (df[\"BUDGET_CATEGORY\"] == group)][\"POPU_LSA\"].sum()\n",
    "\n",
    "stats_df[\"Population served\"] = stats_df.apply(lambda row: get_population_served(lib_df, row[\"Group\"]), axis=1)\n",
    "stats_df[\"% population served\"] = stats_df.apply(lambda row: row[\"Population served\"] / total_population_served * 100, axis=1)\n",
    "stats_df.style.format(precision=2, thousands=\",\")\n"
   ]
  },
  {
   "cell_type": "markdown",
   "metadata": {},
   "source": [
    "As you can see, the **libraries with the largest budgets ($30M+) account for less than 1% of all libraries but serve the largest percent of the population at 28.2%**.  Just behind that group are ibraries with a budget between $1 and $5M, which serve 27.16% of the population."
   ]
  }
 ],
 "metadata": {
  "kernelspec": {
   "display_name": "base",
   "language": "python",
   "name": "python3"
  },
  "language_info": {
   "codemirror_mode": {
    "name": "ipython",
    "version": 3
   },
   "file_extension": ".py",
   "mimetype": "text/x-python",
   "name": "python",
   "nbconvert_exporter": "python",
   "pygments_lexer": "ipython3",
   "version": "3.11.5"
  }
 },
 "nbformat": 4,
 "nbformat_minor": 2
}
