{
 "cells": [
  {
   "cell_type": "markdown",
   "metadata": {},
   "source": [
    "# Public Library Survey Data - Library similarity\n",
    "\n",
    "In this notebook, we will attempt to group similar libraries together based on a number of dimensions such as budget, demographics, and engagement.\n",
    "\n",
    "First we will read the 2022 public library data as well as three 2023 datasets from the Census: median houshold income, race, and ethnicity."
   ]
  },
  {
   "cell_type": "code",
   "execution_count": 1,
   "metadata": {},
   "outputs": [
    {
     "name": "stdout",
     "output_type": "stream",
     "text": [
      "Found 9,248 entries from the public library survey\n",
      "Found 3,222 entries from the Census median household income dataset\n",
      "Found 3,222 entries from the Census race dataset\n",
      "Found 3,222 entries from the Census ethnicity (Hispanic or Latino) dataset\n"
     ]
    }
   ],
   "source": [
    "import pandas as pd\n",
    "from helpers import *\n",
    "\n",
    "lib_df = pd.read_csv(\"data/PLS_FY22_AE_pud22i.csv\", encoding=\"latin-1\")\n",
    "print(f\"Found {lib_df.shape[0]:,} entries from the public library survey\")\n",
    "\n",
    "income_df = pd.read_csv(\"data/ACSDT5Y2023.B19013-Data-Household-Income-By-County.csv\", skiprows=[1])\n",
    "print(f\"Found {income_df.shape[0]:,} entries from the Census median household income dataset\")\n",
    "\n",
    "race_df = pd.read_csv(\"data/ACSDT5Y2023.B02001-Data-Race-By-County.csv\", skiprows=[1])\n",
    "print(f\"Found {race_df.shape[0]:,} entries from the Census race dataset\")\n",
    "\n",
    "ethnicity_df = pd.read_csv(\"data/ACSDT5Y2023.B03003-Data-Hispanic-By-County.csv\", skiprows=[1])\n",
    "print(f\"Found {ethnicity_df.shape[0]:,} entries from the Census ethnicity (Hispanic or Latino) dataset\")"
   ]
  },
  {
   "cell_type": "markdown",
   "metadata": {},
   "source": [
    "Next we need to add County codes to our library data so we can match it with the Census data"
   ]
  },
  {
   "cell_type": "code",
   "execution_count": 2,
   "metadata": {},
   "outputs": [],
   "source": [
    "# Read zipcode data to retrieve county codes\n",
    "zip_df = pd.read_csv(\"data/us_zip_fips_county.csv\", encoding=\"latin-1\")\n",
    "zip_df = zip_df[[\"Zip Code\", \"FIPS Code\"]]\n",
    "\n",
    "# Merge lib data with zipcode data to get count IDs\n",
    "lib_df[\"ZIP\"] = lib_df.apply(\n",
    "    lambda row: str(parse_int(row[\"ZIP\"], 0)).zfill(5), axis=1\n",
    ")\n",
    "zip_df[\"ZIP\"] = zip_df.apply(\n",
    "    lambda row: str(parse_int(row[\"Zip Code\"], 0)).zfill(5), axis=1\n",
    ")\n",
    "lib_df = pd.merge(lib_df, zip_df, on=\"ZIP\", how=\"left\")"
   ]
  },
  {
   "cell_type": "markdown",
   "metadata": {},
   "source": [
    "Next we will merge the four datasets on county (FIPS) code"
   ]
  },
  {
   "cell_type": "code",
   "execution_count": 3,
   "metadata": {},
   "outputs": [
    {
     "name": "stdout",
     "output_type": "stream",
     "text": [
      "9,248 entries after merging\n"
     ]
    }
   ],
   "source": [
    "# Create a new column \"GEO_ID\" that will match the GEO_ID (FIPS code) in the Census data\n",
    "lib_df[\"GEO_ID\"] = lib_df.apply(\n",
    "        lambda row: f\"0500000US{str(parse_int(row['FIPS Code'], 0)).zfill(5)}\", axis=1\n",
    "    )\n",
    "lib_df = pd.merge(lib_df, income_df, on=\"GEO_ID\", how=\"left\")\n",
    "lib_df = pd.merge(lib_df, race_df, on=\"GEO_ID\", how=\"left\")\n",
    "lib_df = pd.merge(lib_df, ethnicity_df, on=\"GEO_ID\", how=\"left\")\n",
    "print(f\"{lib_df.shape[0]:,} entries after merging\")"
   ]
  },
  {
   "cell_type": "markdown",
   "metadata": {},
   "source": [
    "Next let's make sure household income is an integer"
   ]
  },
  {
   "cell_type": "code",
   "execution_count": 4,
   "metadata": {},
   "outputs": [
    {
     "name": "stdout",
     "output_type": "stream",
     "text": [
      "The median median houshold income is $69,630.0\n"
     ]
    }
   ],
   "source": [
    "# Parse income\n",
    "lib_df[\"MEDIAN_INCOME\"] = lib_df.apply(\n",
    "    lambda row: parse_int(row[\"B19013_001E\"]), axis=1\n",
    ")\n",
    "print(f\"The median median houshold income is ${lib_df['MEDIAN_INCOME'].median():,}\")"
   ]
  },
  {
   "cell_type": "markdown",
   "metadata": {},
   "source": [
    "Next let's create one column that represents percentage of population that are people of color or Hispanic/Latino."
   ]
  },
  {
   "cell_type": "code",
   "execution_count": 5,
   "metadata": {},
   "outputs": [
    {
     "name": "stdout",
     "output_type": "stream",
     "text": [
      "The median percent person of color or Hispanic/Latino per library is 10.575%\n"
     ]
    }
   ],
   "source": [
    "lib_df = calculate_percent_pos(lib_df)\n",
    "print(f\"The median percent person of color or Hispanic/Latino per library is {lib_df['PERC_POC_OR_HISPANIC'].median():,}%\")"
   ]
  },
  {
   "cell_type": "markdown",
   "metadata": {},
   "source": [
    "Next let's make sure operating revenue are all valid numbers"
   ]
  },
  {
   "cell_type": "code",
   "execution_count": 6,
   "metadata": {},
   "outputs": [
    {
     "name": "stdout",
     "output_type": "stream",
     "text": [
      "The median operating revenue is $283,943.0\n"
     ]
    }
   ],
   "source": [
    "# Parse income\n",
    "lib_df[\"TOTINCM\"] = lib_df.apply(\n",
    "    lambda row: parse_int(row[\"TOTINCM\"]), axis=1\n",
    ")\n",
    "print(f\"The median operating revenue is ${lib_df['TOTINCM'].median():,}\")"
   ]
  },
  {
   "cell_type": "markdown",
   "metadata": {},
   "source": [
    "Next let's try to reduce these fields to 2 dimensions using [UMAP](https://umap-learn.readthedocs.io/en/latest/index.html)"
   ]
  },
  {
   "cell_type": "code",
   "execution_count": 7,
   "metadata": {},
   "outputs": [
    {
     "data": {
      "text/plain": [
       "(9248, 2)"
      ]
     },
     "execution_count": 7,
     "metadata": {},
     "output_type": "execute_result"
    }
   ],
   "source": [
    "from sklearn.preprocessing import StandardScaler\n",
    "import umap\n",
    "\n",
    "reducer = umap.UMAP()\n",
    "columns_to_reduce = [\n",
    "    \"MEDIAN_INCOME\",\n",
    "    \"TOTINCM\",\n",
    "    \"PERC_POC_OR_HISPANIC\"\n",
    "]\n",
    "\n",
    "# Get only the relevant data we need\n",
    "lib_data = lib_df[columns_to_reduce].values\n",
    "scaled_data = StandardScaler().fit_transform(lib_data)\n",
    "embedding = reducer.fit_transform(scaled_data)\n",
    "embedding.shape"
   ]
  },
  {
   "cell_type": "markdown",
   "metadata": {},
   "source": [
    "And plot the results on a scatter chart"
   ]
  },
  {
   "cell_type": "code",
   "execution_count": 8,
   "metadata": {},
   "outputs": [
    {
     "data": {
      "image/png": "[encoded data removed]",
      "text/plain": [
       "<Figure size 640x480 with 1 Axes>"
      ]
     },
     "metadata": {},
     "output_type": "display_data"
    }
   ],
   "source": [
    "import matplotlib.pyplot as plt\n",
    "\n",
    "plt.scatter(embedding[:, 0], embedding[:, 1], s=1)\n",
    "plt.gca().set_aspect('equal', 'datalim')\n",
    "plt.show()"
   ]
  },
  {
   "cell_type": "markdown",
   "metadata": {},
   "source": [
    "Now let's add the embeddings back to the original data, select one library (the Detroit Public Library), and display the most similar libraries based on the embeddings"
   ]
  },
  {
   "cell_type": "code",
   "execution_count": 9,
   "metadata": {},
   "outputs": [
    {
     "name": "stdout",
     "output_type": "stream",
     "text": [
      "1\n"
     ]
    },
    {
     "data": {
      "text/html": [
       "<div>\n",
       "<style scoped>\n",
       "    .dataframe tbody tr th:only-of-type {\n",
       "        vertical-align: middle;\n",
       "    }\n",
       "\n",
       "    .dataframe tbody tr th {\n",
       "        vertical-align: top;\n",
       "    }\n",
       "\n",
       "    .dataframe thead th {\n",
       "        text-align: right;\n",
       "    }\n",
       "</style>\n",
       "<table border=\"1\" class=\"dataframe\">\n",
       "  <thead>\n",
       "    <tr style=\"text-align: right;\">\n",
       "      <th></th>\n",
       "      <th>LIBNAME</th>\n",
       "      <th>CITY</th>\n",
       "      <th>STABR</th>\n",
       "      <th>MEDIAN_INCOME</th>\n",
       "      <th>TOTINCM</th>\n",
       "      <th>PERC_POC_OR_HISPANIC</th>\n",
       "      <th>DISTANCE</th>\n",
       "    </tr>\n",
       "  </thead>\n",
       "  <tbody>\n",
       "    <tr>\n",
       "      <th>3870</th>\n",
       "      <td>DETROIT PUBLIC LIBRARY</td>\n",
       "      <td>DETROIT</td>\n",
       "      <td>MI</td>\n",
       "      <td>59521</td>\n",
       "      <td>33348455</td>\n",
       "      <td>46.73</td>\n",
       "      <td>0.000000</td>\n",
       "    </tr>\n",
       "    <tr>\n",
       "      <th>4357</th>\n",
       "      <td>CITY OF ST. LOUIS MUNICIPAL LIBRARY DISTRICT</td>\n",
       "      <td>ST. LOUIS</td>\n",
       "      <td>MO</td>\n",
       "      <td>55279</td>\n",
       "      <td>32052653</td>\n",
       "      <td>51.43</td>\n",
       "      <td>0.024251</td>\n",
       "    </tr>\n",
       "    <tr>\n",
       "      <th>7791</th>\n",
       "      <td>DALLAS PUBLIC LIBRARY</td>\n",
       "      <td>DALLAS</td>\n",
       "      <td>TX</td>\n",
       "      <td>74149</td>\n",
       "      <td>32081199</td>\n",
       "      <td>50.71</td>\n",
       "      <td>0.026809</td>\n",
       "    </tr>\n",
       "    <tr>\n",
       "      <th>622</th>\n",
       "      <td>RIVERSIDE COUNTY LIBRARY SYSTEM</td>\n",
       "      <td>JURUPA VALLEY</td>\n",
       "      <td>CA</td>\n",
       "      <td>89672</td>\n",
       "      <td>35164182</td>\n",
       "      <td>50.60</td>\n",
       "      <td>0.028305</td>\n",
       "    </tr>\n",
       "    <tr>\n",
       "      <th>7493</th>\n",
       "      <td>RICHLAND COUNTY PUBLIC LIBRARY</td>\n",
       "      <td>COLUMBIA</td>\n",
       "      <td>SC</td>\n",
       "      <td>61699</td>\n",
       "      <td>31805597</td>\n",
       "      <td>56.39</td>\n",
       "      <td>0.034815</td>\n",
       "    </tr>\n",
       "    <tr>\n",
       "      <th>301</th>\n",
       "      <td>CENTRAL ARKANSAS LIBRARY SYSTEM</td>\n",
       "      <td>LITTLE ROCK</td>\n",
       "      <td>AR</td>\n",
       "      <td>60385</td>\n",
       "      <td>27202740</td>\n",
       "      <td>45.75</td>\n",
       "      <td>0.039179</td>\n",
       "    </tr>\n",
       "    <tr>\n",
       "      <th>8926</th>\n",
       "      <td>MILWAUKEE PUBLIC LIBRARY</td>\n",
       "      <td>MILWAUKEE</td>\n",
       "      <td>WI</td>\n",
       "      <td>62118</td>\n",
       "      <td>29925175</td>\n",
       "      <td>41.34</td>\n",
       "      <td>0.040943</td>\n",
       "    </tr>\n",
       "    <tr>\n",
       "      <th>3522</th>\n",
       "      <td>ENOCH PRATT FREE LIBRARY</td>\n",
       "      <td>BALTIMORE</td>\n",
       "      <td>MD</td>\n",
       "      <td>59623</td>\n",
       "      <td>37385899</td>\n",
       "      <td>71.09</td>\n",
       "      <td>0.049679</td>\n",
       "    </tr>\n",
       "    <tr>\n",
       "      <th>1134</th>\n",
       "      <td>HAWAII STATE PUBLIC LIBRARY SYSTEM</td>\n",
       "      <td>HONOLULU</td>\n",
       "      <td>HI</td>\n",
       "      <td>104264</td>\n",
       "      <td>38123997</td>\n",
       "      <td>75.12</td>\n",
       "      <td>0.067755</td>\n",
       "    </tr>\n",
       "    <tr>\n",
       "      <th>3141</th>\n",
       "      <td>JEFFERSON PARISH LIBRARY</td>\n",
       "      <td>METAIRIE</td>\n",
       "      <td>LA</td>\n",
       "      <td>65246</td>\n",
       "      <td>24280909</td>\n",
       "      <td>41.50</td>\n",
       "      <td>0.085983</td>\n",
       "    </tr>\n",
       "  </tbody>\n",
       "</table>\n",
       "</div>"
      ],
      "text/plain": [
       "                                           LIBNAME           CITY STABR  \\\n",
       "3870                        DETROIT PUBLIC LIBRARY        DETROIT    MI   \n",
       "4357  CITY OF ST. LOUIS MUNICIPAL LIBRARY DISTRICT      ST. LOUIS    MO   \n",
       "7791                         DALLAS PUBLIC LIBRARY         DALLAS    TX   \n",
       "622                RIVERSIDE COUNTY LIBRARY SYSTEM  JURUPA VALLEY    CA   \n",
       "7493                RICHLAND COUNTY PUBLIC LIBRARY       COLUMBIA    SC   \n",
       "301                CENTRAL ARKANSAS LIBRARY SYSTEM    LITTLE ROCK    AR   \n",
       "8926                      MILWAUKEE PUBLIC LIBRARY      MILWAUKEE    WI   \n",
       "3522                      ENOCH PRATT FREE LIBRARY      BALTIMORE    MD   \n",
       "1134            HAWAII STATE PUBLIC LIBRARY SYSTEM       HONOLULU    HI   \n",
       "3141                      JEFFERSON PARISH LIBRARY       METAIRIE    LA   \n",
       "\n",
       "      MEDIAN_INCOME   TOTINCM  PERC_POC_OR_HISPANIC  DISTANCE  \n",
       "3870          59521  33348455                 46.73  0.000000  \n",
       "4357          55279  32052653                 51.43  0.024251  \n",
       "7791          74149  32081199                 50.71  0.026809  \n",
       "622           89672  35164182                 50.60  0.028305  \n",
       "7493          61699  31805597                 56.39  0.034815  \n",
       "301           60385  27202740                 45.75  0.039179  \n",
       "8926          62118  29925175                 41.34  0.040943  \n",
       "3522          59623  37385899                 71.09  0.049679  \n",
       "1134         104264  38123997                 75.12  0.067755  \n",
       "3141          65246  24280909                 41.50  0.085983  "
      ]
     },
     "execution_count": 9,
     "metadata": {},
     "output_type": "execute_result"
    }
   ],
   "source": [
    "import math\n",
    "\n",
    "lib_df[\"EMBEDDING\"] = lib_df.apply(lambda row: embedding[row.name], axis=1)\n",
    "lib = find_where(lib_df, \"LIBNAME\", \"DETROIT PUBLIC LIBRARY\")\n",
    "lib_df[\"DISTANCE\"] = lib_df.apply(lambda row: math.dist(lib[\"EMBEDDING\"], row[\"EMBEDDING\"]), axis=1)\n",
    "sorted_df = lib_df.sort_values(\"DISTANCE\")\n",
    "columns_to_display = [\"LIBNAME\", \"CITY\", \"STABR\"] + columns_to_reduce + [\"DISTANCE\"]\n",
    "sorted_df[columns_to_display].head(10)\n"
   ]
  },
  {
   "cell_type": "markdown",
   "metadata": {},
   "source": [
    "Finally, let's calculate the distances for each public library and output the data."
   ]
  },
  {
   "cell_type": "code",
   "execution_count": 10,
   "metadata": {},
   "outputs": [
    {
     "name": "stderr",
     "output_type": "stream",
     "text": [
      "100%|██████████| 9248/9248 [04:02<00:00, 38.16it/s]\n"
     ]
    },
    {
     "name": "stdout",
     "output_type": "stream",
     "text": [
      "Created similarity data file at public/data/2022-library-data-similarity.json.\n"
     ]
    }
   ],
   "source": [
    "import json\n",
    "from tqdm import tqdm\n",
    "\n",
    "similar_libraries = []\n",
    "embeddings = lib_df[\"EMBEDDING\"].to_list()\n",
    "embeddings = [{\"index\": i, \"embedding\": embedding} for i, embedding in enumerate(embeddings)]\n",
    "for embedding in tqdm(embeddings):\n",
    "    without_self = [row for row in embeddings if row[\"index\"] != embedding[\"index\"]]\n",
    "    by_similarity = sorted(without_self, key=lambda row: math.dist(row[\"embedding\"], embedding[\"embedding\"]))\n",
    "    indices = [row[\"index\"] for row in by_similarity[:10]]\n",
    "    similar_libraries.append(indices)\n",
    "\n",
    "output_file = \"public/data/2022-library-data-similarity.json\"\n",
    "with open(output_file, \"w\") as f:\n",
    "    json.dump(similar_libraries, f)\n",
    "print(f\"Created similarity data file at {output_file}.\")"
   ]
  },
  {
   "cell_type": "markdown",
   "metadata": {},
   "source": [
    "This is now a feature in the [user interface](https://beefoo.github.io/public-library-survey/). Click on the \"Similar libraries\" tab after you select any library."
   ]
  }
 ],
 "metadata": {
  "kernelspec": {
   "display_name": "base",
   "language": "python",
   "name": "python3"
  },
  "language_info": {
   "codemirror_mode": {
    "name": "ipython",
    "version": 3
   },
   "file_extension": ".py",
   "mimetype": "text/x-python",
   "name": "python",
   "nbconvert_exporter": "python",
   "pygments_lexer": "ipython3",
   "version": "3.11.5"
  }
 },
 "nbformat": 4,
 "nbformat_minor": 2
}
