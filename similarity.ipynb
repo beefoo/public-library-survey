{
 "cells": [
  {
   "cell_type": "markdown",
   "metadata": {},
   "source": [
    "# Public Library Survey Data - Library similarity\n",
    "\n",
    "In this notebook, we will attempt to group similar libraries together based on a number of dimensions such as budget, demographics, and engagement.\n",
    "\n",
    "First we will read the 2022 public library data, 2020 presidential election data, as well as three 2023 datasets from the Census: median houshold income, race, and ethnicity."
   ]
  },
  {
   "cell_type": "code",
   "execution_count": 1,
   "metadata": {},
   "outputs": [
    {
     "name": "stdout",
     "output_type": "stream",
     "text": [
      "Found 9,248 entries from the public library survey\n",
      "Found 3,222 entries from the Census median household income dataset by County\n",
      "Found 3,222 entries from the Census race dataset by County\n",
      "Found 3,222 entries from the Census ethnicity (Hispanic or Latino) dataset by County\n",
      "Found 33,772 entries from the Census median household income dataset by Zipcode\n",
      "Found 33,772 entries from the Census race dataset by Zipcode\n",
      "Found 33,772 entries from the Census ethnicity (Hispanic or Latino) dataset by Zipcode\n",
      "Found 72,617 entries in the presidential elections dataset\n",
      "Found 3155 counties with data for year 2020\n",
      "Parsing election data...\n"
     ]
    },
    {
     "name": "stderr",
     "output_type": "stream",
     "text": [
      "100%|██████████| 3155/3155 [00:03<00:00, 816.83it/s]\n"
     ]
    }
   ],
   "source": [
    "import pandas as pd\n",
    "from helpers import *\n",
    "\n",
    "lib_df = pd.read_csv(\"data/PLS_FY22_AE_pud22i.csv\", encoding=\"latin-1\")\n",
    "print(f\"Found {lib_df.shape[0]:,} entries from the public library survey\")\n",
    "\n",
    "census_county_df = get_census_data(by=\"County\")\n",
    "census_zip_df = get_census_data(by=\"Zipcode\")\n",
    "election_df = get_election_data()"
   ]
  },
  {
   "cell_type": "markdown",
   "metadata": {},
   "source": [
    "Next we need to add County codes to our library data so we can match it with the Census data"
   ]
  },
  {
   "cell_type": "code",
   "execution_count": 2,
   "metadata": {},
   "outputs": [],
   "source": [
    "# Read zipcode data to retrieve county codes\n",
    "zip_df = pd.read_csv(\"data/us_zip_fips_county.csv\", encoding=\"latin-1\")\n",
    "zip_df = zip_df[[\"Zip Code\", \"FIPS Code\"]]\n",
    "\n",
    "# Merge lib data with zipcode data to get count IDs\n",
    "lib_df[\"ZIP\"] = lib_df.apply(\n",
    "    lambda row: str(parse_int(row[\"ZIP\"], 0)).zfill(5), axis=1\n",
    ")\n",
    "zip_df[\"ZIP\"] = zip_df.apply(\n",
    "    lambda row: str(parse_int(row[\"Zip Code\"], 0)).zfill(5), axis=1\n",
    ")\n",
    "lib_df = pd.merge(lib_df, zip_df, on=\"ZIP\", how=\"left\")"
   ]
  },
  {
   "cell_type": "markdown",
   "metadata": {},
   "source": [
    "Next we will merge the four datasets on county (FIPS) code for cities, and zipcode for all others"
   ]
  },
  {
   "cell_type": "code",
   "execution_count": 3,
   "metadata": {},
   "outputs": [
    {
     "name": "stdout",
     "output_type": "stream",
     "text": [
      "Found 9,248 entries after merging\n"
     ]
    }
   ],
   "source": [
    "lib_df = merge_data(\n",
    "    lib_df,\n",
    "    census_county_df,\n",
    "    census_zip_df,\n",
    "    election_df,\n",
    ")\n",
    "print(f\"Found {lib_df.shape[0]:,} entries after merging\")"
   ]
  },
  {
   "cell_type": "markdown",
   "metadata": {},
   "source": [
    "Next let's make sure household income is an integer"
   ]
  },
  {
   "cell_type": "code",
   "execution_count": 4,
   "metadata": {},
   "outputs": [
    {
     "name": "stdout",
     "output_type": "stream",
     "text": [
      "The median median houshold income is $70,714.0\n"
     ]
    }
   ],
   "source": [
    "# Parse income\n",
    "lib_df[\"MEDIAN_INCOME\"] = lib_df.apply(\n",
    "    lambda row: parse_int(row[\"B19013_001E\"]), axis=1\n",
    ")\n",
    "print(f\"The median median houshold income is ${lib_df['MEDIAN_INCOME'].median():,}\")"
   ]
  },
  {
   "cell_type": "markdown",
   "metadata": {},
   "source": [
    "Next let's create one column that represents percentage of population that are people of color or Hispanic/Latino."
   ]
  },
  {
   "cell_type": "code",
   "execution_count": 5,
   "metadata": {},
   "outputs": [
    {
     "name": "stdout",
     "output_type": "stream",
     "text": [
      "The median percent White per library is 93.94%\n",
      "The median percent Black per library is 1.24%\n",
      "The median percent Hispanic/Latino per library is 4.35%\n",
      "The median percent Indigenous per library is 0.16%\n",
      "The median percent Asian/Pacific Islander per library is 0.73%\n"
     ]
    }
   ],
   "source": [
    "lib_df = calculate_percent_pos(lib_df)\n",
    "print(f\"The median percent White per library is {lib_df['PERC_WHITE'].median():,}%\")\n",
    "print(f\"The median percent Black per library is {lib_df['PERC_BLACK'].median():,}%\")\n",
    "print(f\"The median percent Hispanic/Latino per library is {lib_df['PERC_HISPANIC'].median():,}%\")\n",
    "print(f\"The median percent Indigenous per library is {lib_df['PERC_INDIGENOUS'].median():,}%\")\n",
    "print(f\"The median percent Asian/Pacific Islander per library is {lib_df['PERC_API'].median():,}%\")"
   ]
  },
  {
   "cell_type": "markdown",
   "metadata": {},
   "source": [
    "Next let's make sure operating revenue are all valid numbers"
   ]
  },
  {
   "cell_type": "code",
   "execution_count": 6,
   "metadata": {},
   "outputs": [
    {
     "name": "stdout",
     "output_type": "stream",
     "text": [
      "The median operating revenue is $283,943.0\n"
     ]
    },
    {
     "data": {
      "text/plain": [
       "['Zip Code',\n",
       " 'FIPS Code',\n",
       " 'county_fips',\n",
       " 'demvotes',\n",
       " 'repvotes',\n",
       " 'totalvotes',\n",
       " 'vote_points']"
      ]
     },
     "execution_count": 6,
     "metadata": {},
     "output_type": "execute_result"
    }
   ],
   "source": [
    "# Parse income\n",
    "lib_df[\"TOTINCM\"] = lib_df.apply(\n",
    "    lambda row: parse_int(row[\"TOTINCM\"]), axis=1\n",
    ")\n",
    "print(f\"The median operating revenue is ${lib_df['TOTINCM'].median():,}\")\n",
    "\n",
    "lib_df.columns[lib_df.isna().any()].tolist()"
   ]
  },
  {
   "cell_type": "markdown",
   "metadata": {},
   "source": [
    "Next let's try to reduce these fields to 2 dimensions using [UMAP](https://umap-learn.readthedocs.io/en/latest/index.html)"
   ]
  },
  {
   "cell_type": "code",
   "execution_count": 8,
   "metadata": {},
   "outputs": [
    {
     "data": {
      "text/plain": [
       "(9248, 2)"
      ]
     },
     "execution_count": 8,
     "metadata": {},
     "output_type": "execute_result"
    }
   ],
   "source": [
    "from sklearn.preprocessing import StandardScaler\n",
    "import umap\n",
    "\n",
    "reducer = umap.UMAP()\n",
    "columns_to_reduce = [\n",
    "    \"MEDIAN_INCOME\",\n",
    "    \"TOTINCM\",\n",
    "    \"vote_points\",\n",
    "    \"PERC_WHITE\",\n",
    "    \"PERC_BLACK\",\n",
    "    \"PERC_INDIGENOUS\",\n",
    "    \"PERC_API\",\n",
    "    \"PERC_HISPANIC\"\n",
    "]\n",
    "\n",
    "# Get only the relevant data we need\n",
    "lib_data = lib_df[columns_to_reduce].fillna(0).values\n",
    "scaled_data = StandardScaler().fit_transform(lib_data)\n",
    "embedding = reducer.fit_transform(scaled_data)\n",
    "embedding.shape"
   ]
  },
  {
   "cell_type": "markdown",
   "metadata": {},
   "source": [
    "And plot the results on a scatter chart"
   ]
  },
  {
   "cell_type": "code",
   "execution_count": 9,
   "metadata": {},
   "outputs": [
    {
     "data": {
      "image/png": "[encoded data removed]",
      "text/plain": [
       "<Figure size 640x480 with 1 Axes>"
      ]
     },
     "metadata": {},
     "output_type": "display_data"
    }
   ],
   "source": [
    "import matplotlib.pyplot as plt\n",
    "\n",
    "plt.scatter(embedding[:, 0], embedding[:, 1], s=1)\n",
    "plt.gca().set_aspect('equal', 'datalim')\n",
    "plt.show()"
   ]
  },
  {
   "cell_type": "markdown",
   "metadata": {},
   "source": [
    "Now let's add the embeddings back to the original data, select one library (the Detroit Public Library), and display the most similar libraries based on the embeddings"
   ]
  },
  {
   "cell_type": "code",
   "execution_count": 10,
   "metadata": {},
   "outputs": [
    {
     "name": "stdout",
     "output_type": "stream",
     "text": [
      "1\n"
     ]
    },
    {
     "data": {
      "text/html": [
       "<div>\n",
       "<style scoped>\n",
       "    .dataframe tbody tr th:only-of-type {\n",
       "        vertical-align: middle;\n",
       "    }\n",
       "\n",
       "    .dataframe tbody tr th {\n",
       "        vertical-align: top;\n",
       "    }\n",
       "\n",
       "    .dataframe thead th {\n",
       "        text-align: right;\n",
       "    }\n",
       "</style>\n",
       "<table border=\"1\" class=\"dataframe\">\n",
       "  <thead>\n",
       "    <tr style=\"text-align: right;\">\n",
       "      <th></th>\n",
       "      <th>LIBNAME</th>\n",
       "      <th>CITY</th>\n",
       "      <th>STABR</th>\n",
       "      <th>MEDIAN_INCOME</th>\n",
       "      <th>TOTINCM</th>\n",
       "      <th>vote_points</th>\n",
       "      <th>PERC_WHITE</th>\n",
       "      <th>PERC_BLACK</th>\n",
       "      <th>PERC_INDIGENOUS</th>\n",
       "      <th>PERC_API</th>\n",
       "      <th>PERC_HISPANIC</th>\n",
       "      <th>DISTANCE</th>\n",
       "    </tr>\n",
       "  </thead>\n",
       "  <tbody>\n",
       "    <tr>\n",
       "      <th>3870</th>\n",
       "      <td>DETROIT PUBLIC LIBRARY</td>\n",
       "      <td>DETROIT</td>\n",
       "      <td>MI</td>\n",
       "      <td>59521</td>\n",
       "      <td>33348455</td>\n",
       "      <td>-38.12</td>\n",
       "      <td>53.27</td>\n",
       "      <td>39.69</td>\n",
       "      <td>0.35</td>\n",
       "      <td>3.74</td>\n",
       "      <td>6.71</td>\n",
       "      <td>0.000000</td>\n",
       "    </tr>\n",
       "    <tr>\n",
       "      <th>301</th>\n",
       "      <td>CENTRAL ARKANSAS LIBRARY SYSTEM</td>\n",
       "      <td>LITTLE ROCK</td>\n",
       "      <td>AR</td>\n",
       "      <td>60385</td>\n",
       "      <td>27202740</td>\n",
       "      <td>-22.51</td>\n",
       "      <td>54.25</td>\n",
       "      <td>39.37</td>\n",
       "      <td>0.35</td>\n",
       "      <td>2.35</td>\n",
       "      <td>8.20</td>\n",
       "      <td>0.080446</td>\n",
       "    </tr>\n",
       "    <tr>\n",
       "      <th>4357</th>\n",
       "      <td>CITY OF ST. LOUIS MUNICIPAL LIBRARY DISTRICT</td>\n",
       "      <td>ST. LOUIS</td>\n",
       "      <td>MO</td>\n",
       "      <td>55279</td>\n",
       "      <td>32052653</td>\n",
       "      <td>-66.20</td>\n",
       "      <td>48.57</td>\n",
       "      <td>45.80</td>\n",
       "      <td>0.26</td>\n",
       "      <td>3.67</td>\n",
       "      <td>5.12</td>\n",
       "      <td>0.202047</td>\n",
       "    </tr>\n",
       "    <tr>\n",
       "      <th>7493</th>\n",
       "      <td>RICHLAND COUNTY PUBLIC LIBRARY</td>\n",
       "      <td>COLUMBIA</td>\n",
       "      <td>SC</td>\n",
       "      <td>61699</td>\n",
       "      <td>31805597</td>\n",
       "      <td>-38.31</td>\n",
       "      <td>43.61</td>\n",
       "      <td>50.00</td>\n",
       "      <td>0.23</td>\n",
       "      <td>3.17</td>\n",
       "      <td>6.29</td>\n",
       "      <td>0.244277</td>\n",
       "    </tr>\n",
       "    <tr>\n",
       "      <th>1092</th>\n",
       "      <td>FULTON COUNTY LIBRARY SYSTEM</td>\n",
       "      <td>ATLANTA</td>\n",
       "      <td>GA</td>\n",
       "      <td>91490</td>\n",
       "      <td>27860053</td>\n",
       "      <td>-46.49</td>\n",
       "      <td>42.08</td>\n",
       "      <td>46.11</td>\n",
       "      <td>0.27</td>\n",
       "      <td>8.15</td>\n",
       "      <td>8.06</td>\n",
       "      <td>0.252729</td>\n",
       "    </tr>\n",
       "    <tr>\n",
       "      <th>8926</th>\n",
       "      <td>MILWAUKEE PUBLIC LIBRARY</td>\n",
       "      <td>MILWAUKEE</td>\n",
       "      <td>WI</td>\n",
       "      <td>62118</td>\n",
       "      <td>29925175</td>\n",
       "      <td>-39.85</td>\n",
       "      <td>58.66</td>\n",
       "      <td>29.17</td>\n",
       "      <td>0.69</td>\n",
       "      <td>5.27</td>\n",
       "      <td>16.64</td>\n",
       "      <td>0.263741</td>\n",
       "    </tr>\n",
       "    <tr>\n",
       "      <th>3522</th>\n",
       "      <td>ENOCH PRATT FREE LIBRARY</td>\n",
       "      <td>BALTIMORE</td>\n",
       "      <td>MD</td>\n",
       "      <td>59623</td>\n",
       "      <td>37385899</td>\n",
       "      <td>-76.60</td>\n",
       "      <td>28.91</td>\n",
       "      <td>63.35</td>\n",
       "      <td>0.38</td>\n",
       "      <td>2.71</td>\n",
       "      <td>7.87</td>\n",
       "      <td>0.403835</td>\n",
       "    </tr>\n",
       "    <tr>\n",
       "      <th>7722</th>\n",
       "      <td>MEMPHIS PUBLIC LIBRARY AND INFORMATION CENTER</td>\n",
       "      <td>MEMPHIS (S)</td>\n",
       "      <td>TN</td>\n",
       "      <td>62337</td>\n",
       "      <td>24207690</td>\n",
       "      <td>-30.44</td>\n",
       "      <td>36.76</td>\n",
       "      <td>55.46</td>\n",
       "      <td>0.41</td>\n",
       "      <td>3.11</td>\n",
       "      <td>8.49</td>\n",
       "      <td>0.433855</td>\n",
       "    </tr>\n",
       "    <tr>\n",
       "      <th>8434</th>\n",
       "      <td>FAIRFAX COUNTY PUBLIC LIBRARY</td>\n",
       "      <td>FAIRFAX</td>\n",
       "      <td>VA</td>\n",
       "      <td>-1</td>\n",
       "      <td>42595953</td>\n",
       "      <td>-41.84</td>\n",
       "      <td>0.00</td>\n",
       "      <td>0.00</td>\n",
       "      <td>0.00</td>\n",
       "      <td>0.00</td>\n",
       "      <td>0.00</td>\n",
       "      <td>0.444606</td>\n",
       "    </tr>\n",
       "    <tr>\n",
       "      <th>7723</th>\n",
       "      <td>NASHVILLE PUBLIC LIBRARY</td>\n",
       "      <td>NASHVILLE</td>\n",
       "      <td>TN</td>\n",
       "      <td>75664</td>\n",
       "      <td>38746941</td>\n",
       "      <td>-32.13</td>\n",
       "      <td>62.78</td>\n",
       "      <td>27.73</td>\n",
       "      <td>0.37</td>\n",
       "      <td>3.79</td>\n",
       "      <td>13.59</td>\n",
       "      <td>0.453159</td>\n",
       "    </tr>\n",
       "    <tr>\n",
       "      <th>995</th>\n",
       "      <td>JACKSONVILLE PUBLIC LIBRARY</td>\n",
       "      <td>JACKSONVILLE</td>\n",
       "      <td>FL</td>\n",
       "      <td>68447</td>\n",
       "      <td>38831994</td>\n",
       "      <td>-3.81</td>\n",
       "      <td>58.28</td>\n",
       "      <td>31.94</td>\n",
       "      <td>0.22</td>\n",
       "      <td>5.38</td>\n",
       "      <td>11.75</td>\n",
       "      <td>0.461705</td>\n",
       "    </tr>\n",
       "    <tr>\n",
       "      <th>7791</th>\n",
       "      <td>DALLAS PUBLIC LIBRARY</td>\n",
       "      <td>DALLAS</td>\n",
       "      <td>TX</td>\n",
       "      <td>74149</td>\n",
       "      <td>32081199</td>\n",
       "      <td>-31.70</td>\n",
       "      <td>49.29</td>\n",
       "      <td>27.24</td>\n",
       "      <td>0.84</td>\n",
       "      <td>8.34</td>\n",
       "      <td>40.79</td>\n",
       "      <td>0.520658</td>\n",
       "    </tr>\n",
       "    <tr>\n",
       "      <th>3142</th>\n",
       "      <td>NEW ORLEANS PUBLIC LIBRARY</td>\n",
       "      <td>NEW ORLEANS</td>\n",
       "      <td>LA</td>\n",
       "      <td>55339</td>\n",
       "      <td>20231350</td>\n",
       "      <td>-68.15</td>\n",
       "      <td>34.14</td>\n",
       "      <td>59.58</td>\n",
       "      <td>0.29</td>\n",
       "      <td>3.02</td>\n",
       "      <td>7.94</td>\n",
       "      <td>0.521499</td>\n",
       "    </tr>\n",
       "    <tr>\n",
       "      <th>1095</th>\n",
       "      <td>GWINNETT COUNTY PUBLIC LIBRARY SYSTEM</td>\n",
       "      <td>LAWRENCEVILLE</td>\n",
       "      <td>GA</td>\n",
       "      <td>63379</td>\n",
       "      <td>23770794</td>\n",
       "      <td>-18.22</td>\n",
       "      <td>37.51</td>\n",
       "      <td>36.51</td>\n",
       "      <td>0.71</td>\n",
       "      <td>9.88</td>\n",
       "      <td>27.07</td>\n",
       "      <td>0.526761</td>\n",
       "    </tr>\n",
       "    <tr>\n",
       "      <th>622</th>\n",
       "      <td>RIVERSIDE COUNTY LIBRARY SYSTEM</td>\n",
       "      <td>JURUPA VALLEY</td>\n",
       "      <td>CA</td>\n",
       "      <td>95218</td>\n",
       "      <td>35164182</td>\n",
       "      <td>-7.94</td>\n",
       "      <td>37.25</td>\n",
       "      <td>4.55</td>\n",
       "      <td>1.70</td>\n",
       "      <td>4.67</td>\n",
       "      <td>73.89</td>\n",
       "      <td>0.543880</td>\n",
       "    </tr>\n",
       "    <tr>\n",
       "      <th>3523</th>\n",
       "      <td>BALTIMORE COUNTY PUBLIC LIBRARY</td>\n",
       "      <td>TOWSON</td>\n",
       "      <td>MD</td>\n",
       "      <td>90904</td>\n",
       "      <td>47099416</td>\n",
       "      <td>-27.04</td>\n",
       "      <td>57.43</td>\n",
       "      <td>32.20</td>\n",
       "      <td>0.27</td>\n",
       "      <td>6.44</td>\n",
       "      <td>7.42</td>\n",
       "      <td>0.550758</td>\n",
       "    </tr>\n",
       "    <tr>\n",
       "      <th>8027</th>\n",
       "      <td>SAN ANTONIO PUBLIC LIBRARY</td>\n",
       "      <td>SAN ANTONIO</td>\n",
       "      <td>TX</td>\n",
       "      <td>70571</td>\n",
       "      <td>45967147</td>\n",
       "      <td>-18.14</td>\n",
       "      <td>68.73</td>\n",
       "      <td>11.00</td>\n",
       "      <td>1.46</td>\n",
       "      <td>4.72</td>\n",
       "      <td>59.53</td>\n",
       "      <td>0.557570</td>\n",
       "    </tr>\n",
       "    <tr>\n",
       "      <th>7877</th>\n",
       "      <td>HOUSTON PUBLIC LIBRARY</td>\n",
       "      <td>HOUSTON</td>\n",
       "      <td>TX</td>\n",
       "      <td>73104</td>\n",
       "      <td>43737447</td>\n",
       "      <td>-13.26</td>\n",
       "      <td>49.89</td>\n",
       "      <td>23.74</td>\n",
       "      <td>1.06</td>\n",
       "      <td>9.07</td>\n",
       "      <td>43.41</td>\n",
       "      <td>0.560899</td>\n",
       "    </tr>\n",
       "    <tr>\n",
       "      <th>7879</th>\n",
       "      <td>HARRIS COUNTY PUBLIC LIBRARY</td>\n",
       "      <td>HOUSTON</td>\n",
       "      <td>TX</td>\n",
       "      <td>73104</td>\n",
       "      <td>40265304</td>\n",
       "      <td>-13.26</td>\n",
       "      <td>49.89</td>\n",
       "      <td>23.74</td>\n",
       "      <td>1.06</td>\n",
       "      <td>9.07</td>\n",
       "      <td>43.41</td>\n",
       "      <td>0.564074</td>\n",
       "    </tr>\n",
       "    <tr>\n",
       "      <th>6483</th>\n",
       "      <td>DAYTON METRO LIBRARY</td>\n",
       "      <td>DAYTON</td>\n",
       "      <td>OH</td>\n",
       "      <td>64403</td>\n",
       "      <td>44904380</td>\n",
       "      <td>-2.25</td>\n",
       "      <td>73.94</td>\n",
       "      <td>21.89</td>\n",
       "      <td>0.18</td>\n",
       "      <td>2.33</td>\n",
       "      <td>4.05</td>\n",
       "      <td>0.571140</td>\n",
       "    </tr>\n",
       "  </tbody>\n",
       "</table>\n",
       "</div>"
      ],
      "text/plain": [
       "                                            LIBNAME           CITY STABR  \\\n",
       "3870                         DETROIT PUBLIC LIBRARY        DETROIT    MI   \n",
       "301                 CENTRAL ARKANSAS LIBRARY SYSTEM    LITTLE ROCK    AR   \n",
       "4357   CITY OF ST. LOUIS MUNICIPAL LIBRARY DISTRICT      ST. LOUIS    MO   \n",
       "7493                 RICHLAND COUNTY PUBLIC LIBRARY       COLUMBIA    SC   \n",
       "1092                   FULTON COUNTY LIBRARY SYSTEM        ATLANTA    GA   \n",
       "8926                       MILWAUKEE PUBLIC LIBRARY      MILWAUKEE    WI   \n",
       "3522                       ENOCH PRATT FREE LIBRARY      BALTIMORE    MD   \n",
       "7722  MEMPHIS PUBLIC LIBRARY AND INFORMATION CENTER    MEMPHIS (S)    TN   \n",
       "8434                  FAIRFAX COUNTY PUBLIC LIBRARY        FAIRFAX    VA   \n",
       "7723                       NASHVILLE PUBLIC LIBRARY      NASHVILLE    TN   \n",
       "995                     JACKSONVILLE PUBLIC LIBRARY   JACKSONVILLE    FL   \n",
       "7791                          DALLAS PUBLIC LIBRARY         DALLAS    TX   \n",
       "3142                     NEW ORLEANS PUBLIC LIBRARY    NEW ORLEANS    LA   \n",
       "1095          GWINNETT COUNTY PUBLIC LIBRARY SYSTEM  LAWRENCEVILLE    GA   \n",
       "622                 RIVERSIDE COUNTY LIBRARY SYSTEM  JURUPA VALLEY    CA   \n",
       "3523                BALTIMORE COUNTY PUBLIC LIBRARY         TOWSON    MD   \n",
       "8027                     SAN ANTONIO PUBLIC LIBRARY    SAN ANTONIO    TX   \n",
       "7877                         HOUSTON PUBLIC LIBRARY        HOUSTON    TX   \n",
       "7879                   HARRIS COUNTY PUBLIC LIBRARY        HOUSTON    TX   \n",
       "6483                           DAYTON METRO LIBRARY         DAYTON    OH   \n",
       "\n",
       "      MEDIAN_INCOME   TOTINCM  vote_points  PERC_WHITE  PERC_BLACK  \\\n",
       "3870          59521  33348455       -38.12       53.27       39.69   \n",
       "301           60385  27202740       -22.51       54.25       39.37   \n",
       "4357          55279  32052653       -66.20       48.57       45.80   \n",
       "7493          61699  31805597       -38.31       43.61       50.00   \n",
       "1092          91490  27860053       -46.49       42.08       46.11   \n",
       "8926          62118  29925175       -39.85       58.66       29.17   \n",
       "3522          59623  37385899       -76.60       28.91       63.35   \n",
       "7722          62337  24207690       -30.44       36.76       55.46   \n",
       "8434             -1  42595953       -41.84        0.00        0.00   \n",
       "7723          75664  38746941       -32.13       62.78       27.73   \n",
       "995           68447  38831994        -3.81       58.28       31.94   \n",
       "7791          74149  32081199       -31.70       49.29       27.24   \n",
       "3142          55339  20231350       -68.15       34.14       59.58   \n",
       "1095          63379  23770794       -18.22       37.51       36.51   \n",
       "622           95218  35164182        -7.94       37.25        4.55   \n",
       "3523          90904  47099416       -27.04       57.43       32.20   \n",
       "8027          70571  45967147       -18.14       68.73       11.00   \n",
       "7877          73104  43737447       -13.26       49.89       23.74   \n",
       "7879          73104  40265304       -13.26       49.89       23.74   \n",
       "6483          64403  44904380        -2.25       73.94       21.89   \n",
       "\n",
       "      PERC_INDIGENOUS  PERC_API  PERC_HISPANIC  DISTANCE  \n",
       "3870             0.35      3.74           6.71  0.000000  \n",
       "301              0.35      2.35           8.20  0.080446  \n",
       "4357             0.26      3.67           5.12  0.202047  \n",
       "7493             0.23      3.17           6.29  0.244277  \n",
       "1092             0.27      8.15           8.06  0.252729  \n",
       "8926             0.69      5.27          16.64  0.263741  \n",
       "3522             0.38      2.71           7.87  0.403835  \n",
       "7722             0.41      3.11           8.49  0.433855  \n",
       "8434             0.00      0.00           0.00  0.444606  \n",
       "7723             0.37      3.79          13.59  0.453159  \n",
       "995              0.22      5.38          11.75  0.461705  \n",
       "7791             0.84      8.34          40.79  0.520658  \n",
       "3142             0.29      3.02           7.94  0.521499  \n",
       "1095             0.71      9.88          27.07  0.526761  \n",
       "622              1.70      4.67          73.89  0.543880  \n",
       "3523             0.27      6.44           7.42  0.550758  \n",
       "8027             1.46      4.72          59.53  0.557570  \n",
       "7877             1.06      9.07          43.41  0.560899  \n",
       "7879             1.06      9.07          43.41  0.564074  \n",
       "6483             0.18      2.33           4.05  0.571140  "
      ]
     },
     "execution_count": 10,
     "metadata": {},
     "output_type": "execute_result"
    }
   ],
   "source": [
    "import math\n",
    "\n",
    "lib_df[\"EMBEDDING\"] = lib_df.apply(lambda row: embedding[row.name], axis=1)\n",
    "lib = find_where(lib_df, \"LIBNAME\", \"DETROIT PUBLIC LIBRARY\")\n",
    "lib_df[\"DISTANCE\"] = lib_df.apply(lambda row: math.dist(lib[\"EMBEDDING\"], row[\"EMBEDDING\"]), axis=1)\n",
    "sorted_df = lib_df.sort_values(\"DISTANCE\")\n",
    "columns_to_display = [\"LIBNAME\", \"CITY\", \"STABR\"] + columns_to_reduce + [\"DISTANCE\"]\n",
    "sorted_df[columns_to_display].head(20)\n"
   ]
  },
  {
   "cell_type": "markdown",
   "metadata": {},
   "source": [
    "Finally, let's calculate the distances for each public library and output the data."
   ]
  },
  {
   "cell_type": "code",
   "execution_count": 11,
   "metadata": {},
   "outputs": [
    {
     "name": "stderr",
     "output_type": "stream",
     "text": [
      "100%|██████████| 9248/9248 [03:03<00:00, 50.31it/s]"
     ]
    },
    {
     "name": "stdout",
     "output_type": "stream",
     "text": [
      "Created similarity data file at public/data/2022-library-data-similarity.json.\n"
     ]
    },
    {
     "name": "stderr",
     "output_type": "stream",
     "text": [
      "\n"
     ]
    }
   ],
   "source": [
    "import json\n",
    "from tqdm import tqdm\n",
    "\n",
    "similar_libraries = []\n",
    "embeddings = lib_df[\"EMBEDDING\"].to_list()\n",
    "embeddings = [{\"index\": i, \"embedding\": embedding} for i, embedding in enumerate(embeddings)]\n",
    "for embedding in tqdm(embeddings):\n",
    "    without_self = [row for row in embeddings if row[\"index\"] != embedding[\"index\"]]\n",
    "    by_similarity = sorted(without_self, key=lambda row: math.dist(row[\"embedding\"], embedding[\"embedding\"]))\n",
    "    indices = [row[\"index\"] for row in by_similarity[:20]]\n",
    "    similar_libraries.append(indices)\n",
    "\n",
    "output_file = \"public/data/2022-library-data-similarity.json\"\n",
    "with open(output_file, \"w\") as f:\n",
    "    json.dump(similar_libraries, f)\n",
    "print(f\"Created similarity data file at {output_file}.\")"
   ]
  },
  {
   "cell_type": "markdown",
   "metadata": {},
   "source": [
    "This is now a feature in the [user interface](https://beefoo.github.io/public-library-survey/). Click on the \"Similar libraries\" tab after you select any library."
   ]
  }
 ],
 "metadata": {
  "kernelspec": {
   "display_name": "base",
   "language": "python",
   "name": "python3"
  },
  "language_info": {
   "codemirror_mode": {
    "name": "ipython",
    "version": 3
   },
   "file_extension": ".py",
   "mimetype": "text/x-python",
   "name": "python",
   "nbconvert_exporter": "python",
   "pygments_lexer": "ipython3",
   "version": "3.11.5"
  }
 },
 "nbformat": 4,
 "nbformat_minor": 2
}
