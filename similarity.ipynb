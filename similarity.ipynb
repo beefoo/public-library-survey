{
 "cells": [
  {
   "cell_type": "markdown",
   "metadata": {},
   "source": [
    "# Public Library Survey Data - Library similarity\n",
    "\n",
    "In this notebook, we will attempt to group similar libraries together based on a number of dimensions such as budget, demographics, and engagement.\n",
    "\n",
    "First we will read the 2022 public library data as well as three 2023 datasets from the Census: median houshold income, race, and ethnicity."
   ]
  },
  {
   "cell_type": "code",
   "execution_count": 2,
   "metadata": {},
   "outputs": [
    {
     "name": "stdout",
     "output_type": "stream",
     "text": [
      "Found 9,248 entries from the public library survey\n",
      "Found 33,772 entries from the Census median household income dataset\n",
      "Found 33,772 entries from the Census race dataset\n",
      "Found 33,772 entries from the Census ethnicity (Hispanic or Latino) dataset\n"
     ]
    }
   ],
   "source": [
    "import pandas as pd\n",
    "from helpers import *\n",
    "\n",
    "lib_df = pd.read_csv(\"data/PLS_FY22_AE_pud22i.csv\", encoding=\"latin-1\")\n",
    "print(f\"Found {lib_df.shape[0]:,} entries from the public library survey\")\n",
    "\n",
    "income_df = pd.read_csv(\"data/ACSDT5Y2023.B19013-Data-Houshold-Income-By-Zipcode.csv\", skiprows=[1])\n",
    "print(f\"Found {income_df.shape[0]:,} entries from the Census median household income dataset\")\n",
    "\n",
    "race_df = pd.read_csv(\"data/ACSDT5Y2023.B02001-Data-Race-By-Zipcode.csv\", skiprows=[1])\n",
    "print(f\"Found {race_df.shape[0]:,} entries from the Census race dataset\")\n",
    "\n",
    "ethnicity_df = pd.read_csv(\"data/ACSDT5Y2023.B03003-Data-Hispanic-By-Zipcode.csv\", skiprows=[1])\n",
    "print(f\"Found {ethnicity_df.shape[0]:,} entries from the Census ethnicity (Hispanic or Latino) dataset\")"
   ]
  },
  {
   "cell_type": "markdown",
   "metadata": {},
   "source": [
    "Next we will merge the four datasets on zipcode"
   ]
  },
  {
   "cell_type": "code",
   "execution_count": 3,
   "metadata": {},
   "outputs": [
    {
     "name": "stdout",
     "output_type": "stream",
     "text": [
      "9,248 entries after merging\n"
     ]
    }
   ],
   "source": [
    "# Create a new column \"GEO_ID\" that will match the GEO_ID (zipcode) in the Census data\n",
    "lib_df[\"GEO_ID\"] = lib_df.apply(\n",
    "    lambda row: f\"860Z200US{str(row['ZIP']).zfill(5)}\", axis=1\n",
    ")\n",
    "lib_df = pd.merge(lib_df, income_df, on=\"GEO_ID\", how=\"left\")\n",
    "lib_df = pd.merge(lib_df, race_df, on=\"GEO_ID\", how=\"left\")\n",
    "lib_df = pd.merge(lib_df, ethnicity_df, on=\"GEO_ID\", how=\"left\")\n",
    "print(f\"{lib_df.shape[0]:,} entries after merging\")"
   ]
  },
  {
   "cell_type": "markdown",
   "metadata": {},
   "source": [
    "Next let's make sure household income is an integer"
   ]
  },
  {
   "cell_type": "code",
   "execution_count": 4,
   "metadata": {},
   "outputs": [
    {
     "name": "stdout",
     "output_type": "stream",
     "text": [
      "The median median houshold income is $70,078.5\n"
     ]
    }
   ],
   "source": [
    "# Parse income\n",
    "lib_df[\"MEDIAN_INCOME\"] = lib_df.apply(\n",
    "    lambda row: parse_int(row[\"B19013_001E\"]), axis=1\n",
    ")\n",
    "print(f\"The median median houshold income is ${lib_df['MEDIAN_INCOME'].median():,}\")"
   ]
  },
  {
   "cell_type": "markdown",
   "metadata": {},
   "source": [
    "Next let's create one column that represents percentage of population that are people of color or Hispanic/Latino."
   ]
  },
  {
   "cell_type": "code",
   "execution_count": 5,
   "metadata": {},
   "outputs": [
    {
     "name": "stdout",
     "output_type": "stream",
     "text": [
      "The median percent person of color or Hispanic/Latino per library is 7.605%\n"
     ]
    }
   ],
   "source": [
    "lib_df = calculate_percent_pos(lib_df)\n",
    "print(f\"The median percent person of color or Hispanic/Latino per library is {lib_df['PERC_POC_OR_HISPANIC'].median():,}%\")"
   ]
  },
  {
   "cell_type": "markdown",
   "metadata": {},
   "source": [
    "Next let's make sure operating revenue are all valid numbers"
   ]
  },
  {
   "cell_type": "code",
   "execution_count": 6,
   "metadata": {},
   "outputs": [
    {
     "name": "stdout",
     "output_type": "stream",
     "text": [
      "The median operating revenue is $283,943.0\n"
     ]
    }
   ],
   "source": [
    "# Parse income\n",
    "lib_df[\"TOTINCM\"] = lib_df.apply(\n",
    "    lambda row: parse_int(row[\"TOTINCM\"]), axis=1\n",
    ")\n",
    "print(f\"The median operating revenue is ${lib_df['TOTINCM'].median():,}\")"
   ]
  },
  {
   "cell_type": "markdown",
   "metadata": {},
   "source": [
    "Next, as proxies for engagement, let's calculate visits per capita, attendance per program, and computer/wifi sessions per capita"
   ]
  },
  {
   "cell_type": "code",
   "execution_count": 7,
   "metadata": {},
   "outputs": [
    {
     "name": "stdout",
     "output_type": "stream",
     "text": [
      "The median visits per capita is 2.4\n",
      "The median attendance per program is 14.409\n",
      "The median wifi sessions per visit is 0.122\n",
      "The median computer sessions per visit is 0.094\n"
     ]
    }
   ],
   "source": [
    "lib_df = calculate_per(lib_df, \"VISITS\", \"POPU_LSA\", \"VISITS_PER\")\n",
    "print(f\"The median visits per capita is {lib_df['VISITS_PER'].median():,}\")\n",
    "lib_df = calculate_per(lib_df, \"TOTATTEN\", \"TOTPRO\", \"ATTEN_PER\")\n",
    "print(f\"The median attendance per program is {lib_df['ATTEN_PER'].median():,}\")\n",
    "lib_df = calculate_per(lib_df, \"WIFISESS\", \"VISITS\", \"WIFI_PER\")\n",
    "print(f\"The median wifi sessions per visit is {lib_df['WIFI_PER'].median():,}\")\n",
    "lib_df = calculate_per(lib_df, \"PITUSR\", \"VISITS\", \"COMP_PER\")\n",
    "print(f\"The median computer sessions per visit is {lib_df['COMP_PER'].median():,}\")"
   ]
  },
  {
   "cell_type": "markdown",
   "metadata": {},
   "source": [
    "Let's combine visits/attendance and wifi/computer into single scores for physical and digital engagement"
   ]
  },
  {
   "cell_type": "code",
   "execution_count": 8,
   "metadata": {},
   "outputs": [
    {
     "name": "stdout",
     "output_type": "stream",
     "text": [
      "The median physical engagement score is 8.90325\n",
      "The median digital engagement score is 0.129\n"
     ]
    }
   ],
   "source": [
    "lib_df[\"PHYS_ENGAGEMENT\"] = lib_df.apply(lambda row: (row[\"VISITS_PER\"] + row[\"ATTEN_PER\"]) / 2.0, axis=1)\n",
    "lib_df[\"DIGI_ENGAGEMENT\"] = lib_df.apply(lambda row: (row[\"WIFI_PER\"] + row[\"COMP_PER\"]) / 2.0, axis=1)\n",
    "print(f\"The median physical engagement score is {lib_df['PHYS_ENGAGEMENT'].median():,}\")\n",
    "print(f\"The median digital engagement score is {lib_df['DIGI_ENGAGEMENT'].median():,}\")"
   ]
  },
  {
   "cell_type": "markdown",
   "metadata": {},
   "source": [
    "Next let's try to reduce these fields to 2 dimensions using [UMAP](https://umap-learn.readthedocs.io/en/latest/index.html)"
   ]
  },
  {
   "cell_type": "code",
   "execution_count": 9,
   "metadata": {},
   "outputs": [
    {
     "data": {
      "text/plain": [
       "(9248, 2)"
      ]
     },
     "execution_count": 9,
     "metadata": {},
     "output_type": "execute_result"
    }
   ],
   "source": [
    "from sklearn.preprocessing import StandardScaler\n",
    "import umap\n",
    "\n",
    "reducer = umap.UMAP()\n",
    "columns_to_reduce = [\n",
    "    \"MEDIAN_INCOME\",\n",
    "    \"TOTINCM\",\n",
    "    \"PERC_POC_OR_HISPANIC\",\n",
    "    \"PHYS_ENGAGEMENT\",\n",
    "    \"DIGI_ENGAGEMENT\"\n",
    "]\n",
    "\n",
    "# Get only the relevant data we need\n",
    "lib_data = lib_df[columns_to_reduce].values\n",
    "scaled_data = StandardScaler().fit_transform(lib_data)\n",
    "embedding = reducer.fit_transform(scaled_data)\n",
    "embedding.shape"
   ]
  },
  {
   "cell_type": "markdown",
   "metadata": {},
   "source": [
    "And plot the results on a scatter chart"
   ]
  },
  {
   "cell_type": "code",
   "execution_count": 10,
   "metadata": {},
   "outputs": [
    {
     "data": {
      "image/png": "[encoded data removed]",
      "text/plain": [
       "<Figure size 640x480 with 1 Axes>"
      ]
     },
     "metadata": {},
     "output_type": "display_data"
    }
   ],
   "source": [
    "import matplotlib.pyplot as plt\n",
    "\n",
    "plt.scatter(embedding[:, 0], embedding[:, 1], s=1)\n",
    "plt.gca().set_aspect('equal', 'datalim')\n",
    "plt.show()"
   ]
  },
  {
   "cell_type": "markdown",
   "metadata": {},
   "source": [
    "Now let's add the embeddings back to the original data, select one library (the Detroit Public Library), and display the most similar libraries based on the embeddings"
   ]
  },
  {
   "cell_type": "code",
   "execution_count": 11,
   "metadata": {},
   "outputs": [
    {
     "name": "stdout",
     "output_type": "stream",
     "text": [
      "1\n"
     ]
    },
    {
     "data": {
      "text/html": [
       "<div>\n",
       "<style scoped>\n",
       "    .dataframe tbody tr th:only-of-type {\n",
       "        vertical-align: middle;\n",
       "    }\n",
       "\n",
       "    .dataframe tbody tr th {\n",
       "        vertical-align: top;\n",
       "    }\n",
       "\n",
       "    .dataframe thead th {\n",
       "        text-align: right;\n",
       "    }\n",
       "</style>\n",
       "<table border=\"1\" class=\"dataframe\">\n",
       "  <thead>\n",
       "    <tr style=\"text-align: right;\">\n",
       "      <th></th>\n",
       "      <th>LIBNAME</th>\n",
       "      <th>CITY</th>\n",
       "      <th>STABR</th>\n",
       "      <th>MEDIAN_INCOME</th>\n",
       "      <th>TOTINCM</th>\n",
       "      <th>PERC_POC_OR_HISPANIC</th>\n",
       "      <th>PHYS_ENGAGEMENT</th>\n",
       "      <th>DIGI_ENGAGEMENT</th>\n",
       "      <th>DISTANCE</th>\n",
       "    </tr>\n",
       "  </thead>\n",
       "  <tbody>\n",
       "    <tr>\n",
       "      <th>3870</th>\n",
       "      <td>DETROIT PUBLIC LIBRARY</td>\n",
       "      <td>DETROIT</td>\n",
       "      <td>MI</td>\n",
       "      <td>36536</td>\n",
       "      <td>33348455</td>\n",
       "      <td>72.10</td>\n",
       "      <td>8.8340</td>\n",
       "      <td>0.5195</td>\n",
       "      <td>0.000000</td>\n",
       "    </tr>\n",
       "    <tr>\n",
       "      <th>4357</th>\n",
       "      <td>CITY OF ST. LOUIS MUNICIPAL LIBRARY DISTRICT</td>\n",
       "      <td>ST. LOUIS</td>\n",
       "      <td>MO</td>\n",
       "      <td>37500</td>\n",
       "      <td>32052653</td>\n",
       "      <td>53.12</td>\n",
       "      <td>10.2715</td>\n",
       "      <td>1.0840</td>\n",
       "      <td>0.032407</td>\n",
       "    </tr>\n",
       "    <tr>\n",
       "      <th>5668</th>\n",
       "      <td>BUFFALO AND ERIE COUNTY PUBLIC LIBRARY</td>\n",
       "      <td>BUFFALO</td>\n",
       "      <td>NY</td>\n",
       "      <td>48529</td>\n",
       "      <td>32728384</td>\n",
       "      <td>62.67</td>\n",
       "      <td>15.3305</td>\n",
       "      <td>0.3905</td>\n",
       "      <td>0.050212</td>\n",
       "    </tr>\n",
       "    <tr>\n",
       "      <th>3522</th>\n",
       "      <td>ENOCH PRATT FREE LIBRARY</td>\n",
       "      <td>BALTIMORE</td>\n",
       "      <td>MD</td>\n",
       "      <td>44722</td>\n",
       "      <td>37385899</td>\n",
       "      <td>72.71</td>\n",
       "      <td>7.6035</td>\n",
       "      <td>1.1090</td>\n",
       "      <td>0.086023</td>\n",
       "    </tr>\n",
       "    <tr>\n",
       "      <th>622</th>\n",
       "      <td>RIVERSIDE COUNTY LIBRARY SYSTEM</td>\n",
       "      <td>JURUPA VALLEY</td>\n",
       "      <td>CA</td>\n",
       "      <td>95218</td>\n",
       "      <td>35164182</td>\n",
       "      <td>73.89</td>\n",
       "      <td>11.1640</td>\n",
       "      <td>0.1635</td>\n",
       "      <td>0.106763</td>\n",
       "    </tr>\n",
       "    <tr>\n",
       "      <th>3536</th>\n",
       "      <td>PRINCE GEORGE`S COUNTY MEMORIAL LIBRARY SYSTE</td>\n",
       "      <td>LARGO</td>\n",
       "      <td>MD</td>\n",
       "      <td>128392</td>\n",
       "      <td>35520582</td>\n",
       "      <td>94.88</td>\n",
       "      <td>12.2660</td>\n",
       "      <td>0.3405</td>\n",
       "      <td>0.113359</td>\n",
       "    </tr>\n",
       "    <tr>\n",
       "      <th>7879</th>\n",
       "      <td>HARRIS COUNTY PUBLIC LIBRARY</td>\n",
       "      <td>HOUSTON</td>\n",
       "      <td>TX</td>\n",
       "      <td>37081</td>\n",
       "      <td>40265304</td>\n",
       "      <td>79.69</td>\n",
       "      <td>14.0235</td>\n",
       "      <td>0.8830</td>\n",
       "      <td>0.153945</td>\n",
       "    </tr>\n",
       "    <tr>\n",
       "      <th>1134</th>\n",
       "      <td>HAWAII STATE PUBLIC LIBRARY SYSTEM</td>\n",
       "      <td>HONOLULU</td>\n",
       "      <td>HI</td>\n",
       "      <td>87799</td>\n",
       "      <td>38123997</td>\n",
       "      <td>79.54</td>\n",
       "      <td>8.9540</td>\n",
       "      <td>0.1615</td>\n",
       "      <td>0.160893</td>\n",
       "    </tr>\n",
       "    <tr>\n",
       "      <th>995</th>\n",
       "      <td>JACKSONVILLE PUBLIC LIBRARY</td>\n",
       "      <td>JACKSONVILLE</td>\n",
       "      <td>FL</td>\n",
       "      <td>40070</td>\n",
       "      <td>38831994</td>\n",
       "      <td>54.59</td>\n",
       "      <td>6.0590</td>\n",
       "      <td>0.1490</td>\n",
       "      <td>0.174593</td>\n",
       "    </tr>\n",
       "    <tr>\n",
       "      <th>4678</th>\n",
       "      <td>WAKE COUNTY PUBLIC LIBRARIES</td>\n",
       "      <td>RALEIGH</td>\n",
       "      <td>NC</td>\n",
       "      <td>66245</td>\n",
       "      <td>27826058</td>\n",
       "      <td>79.57</td>\n",
       "      <td>12.8870</td>\n",
       "      <td>0.1070</td>\n",
       "      <td>0.188326</td>\n",
       "    </tr>\n",
       "  </tbody>\n",
       "</table>\n",
       "</div>"
      ],
      "text/plain": [
       "                                            LIBNAME           CITY STABR  \\\n",
       "3870                         DETROIT PUBLIC LIBRARY        DETROIT    MI   \n",
       "4357   CITY OF ST. LOUIS MUNICIPAL LIBRARY DISTRICT      ST. LOUIS    MO   \n",
       "5668         BUFFALO AND ERIE COUNTY PUBLIC LIBRARY        BUFFALO    NY   \n",
       "3522                       ENOCH PRATT FREE LIBRARY      BALTIMORE    MD   \n",
       "622                 RIVERSIDE COUNTY LIBRARY SYSTEM  JURUPA VALLEY    CA   \n",
       "3536  PRINCE GEORGE`S COUNTY MEMORIAL LIBRARY SYSTE          LARGO    MD   \n",
       "7879                   HARRIS COUNTY PUBLIC LIBRARY        HOUSTON    TX   \n",
       "1134             HAWAII STATE PUBLIC LIBRARY SYSTEM       HONOLULU    HI   \n",
       "995                     JACKSONVILLE PUBLIC LIBRARY   JACKSONVILLE    FL   \n",
       "4678                   WAKE COUNTY PUBLIC LIBRARIES        RALEIGH    NC   \n",
       "\n",
       "      MEDIAN_INCOME   TOTINCM  PERC_POC_OR_HISPANIC  PHYS_ENGAGEMENT  \\\n",
       "3870          36536  33348455                 72.10           8.8340   \n",
       "4357          37500  32052653                 53.12          10.2715   \n",
       "5668          48529  32728384                 62.67          15.3305   \n",
       "3522          44722  37385899                 72.71           7.6035   \n",
       "622           95218  35164182                 73.89          11.1640   \n",
       "3536         128392  35520582                 94.88          12.2660   \n",
       "7879          37081  40265304                 79.69          14.0235   \n",
       "1134          87799  38123997                 79.54           8.9540   \n",
       "995           40070  38831994                 54.59           6.0590   \n",
       "4678          66245  27826058                 79.57          12.8870   \n",
       "\n",
       "      DIGI_ENGAGEMENT  DISTANCE  \n",
       "3870           0.5195  0.000000  \n",
       "4357           1.0840  0.032407  \n",
       "5668           0.3905  0.050212  \n",
       "3522           1.1090  0.086023  \n",
       "622            0.1635  0.106763  \n",
       "3536           0.3405  0.113359  \n",
       "7879           0.8830  0.153945  \n",
       "1134           0.1615  0.160893  \n",
       "995            0.1490  0.174593  \n",
       "4678           0.1070  0.188326  "
      ]
     },
     "execution_count": 11,
     "metadata": {},
     "output_type": "execute_result"
    }
   ],
   "source": [
    "import math\n",
    "\n",
    "lib_df[\"EMBEDDING\"] = lib_df.apply(lambda row: embedding[row.name], axis=1)\n",
    "lib = find_where(lib_df, \"LIBNAME\", \"DETROIT PUBLIC LIBRARY\")\n",
    "lib_df[\"DISTANCE\"] = lib_df.apply(lambda row: math.dist(lib[\"EMBEDDING\"], row[\"EMBEDDING\"]), axis=1)\n",
    "sorted_df = lib_df.sort_values(\"DISTANCE\")\n",
    "columns_to_display = [\"LIBNAME\", \"CITY\", \"STABR\"] + columns_to_reduce + [\"DISTANCE\"]\n",
    "sorted_df[columns_to_display].head(10)\n"
   ]
  },
  {
   "cell_type": "markdown",
   "metadata": {},
   "source": [
    "Finally, let's calculate the distances for each public library and output the data."
   ]
  },
  {
   "cell_type": "code",
   "execution_count": 18,
   "metadata": {},
   "outputs": [
    {
     "name": "stderr",
     "output_type": "stream",
     "text": [
      "100%|██████████| 9248/9248 [00:53<00:00, 174.24it/s]\n"
     ]
    },
    {
     "name": "stdout",
     "output_type": "stream",
     "text": [
      "Created similarity data file at public/data/2022-library-data-similarity.json.\n"
     ]
    }
   ],
   "source": [
    "import json\n",
    "from tqdm import tqdm\n",
    "\n",
    "similar_libraries = []\n",
    "embeddings = lib_df[\"EMBEDDING\"].to_list()\n",
    "embeddings = [{\"index\": i, \"embedding\": embedding} for i, embedding in enumerate(embeddings)]\n",
    "for embedding in tqdm(embeddings):\n",
    "    without_self = [row for row in embeddings if row[\"index\"] != embedding[\"index\"]]\n",
    "    by_similarity = sorted(without_self, key=lambda row: math.dist(row[\"embedding\"], embedding[\"embedding\"]))\n",
    "    indices = [row[\"index\"] for row in by_similarity[:10]]\n",
    "    similar_libraries.append(indices)\n",
    "\n",
    "output_file = \"public/data/2022-library-data-similarity.json\"\n",
    "with open(output_file, \"w\") as f:\n",
    "    json.dump(similar_libraries, f)\n",
    "print(f\"Created similarity data file at {output_file}.\")"
   ]
  }
 ],
 "metadata": {
  "kernelspec": {
   "display_name": "base",
   "language": "python",
   "name": "python3"
  },
  "language_info": {
   "codemirror_mode": {
    "name": "ipython",
    "version": 3
   },
   "file_extension": ".py",
   "mimetype": "text/x-python",
   "name": "python",
   "nbconvert_exporter": "python",
   "pygments_lexer": "ipython3",
   "version": "3.11.5"
  }
 },
 "nbformat": 4,
 "nbformat_minor": 2
}
